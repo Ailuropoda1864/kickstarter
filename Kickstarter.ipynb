{
 "cells": [
  {
   "cell_type": "code",
   "execution_count": 2,
   "metadata": {
    "collapsed": false
   },
   "outputs": [],
   "source": [
    "import numpy as np\n",
    "import pandas as pd\n",
    "import matplotlib.pyplot as plt\n",
    "import scipy.stats as stats"
   ]
  },
  {
   "cell_type": "code",
   "execution_count": 3,
   "metadata": {
    "collapsed": true
   },
   "outputs": [],
   "source": [
    "df = pd.read_csv('DSI_kickstarterscrape_dataset.csv', header=0, index_col='project id')"
   ]
  },
  {
   "cell_type": "code",
   "execution_count": 4,
   "metadata": {
    "collapsed": false
   },
   "outputs": [
    {
     "data": {
      "text/html": [
       "<div>\n",
       "<table border=\"1\" class=\"dataframe\">\n",
       "  <thead>\n",
       "    <tr style=\"text-align: right;\">\n",
       "      <th></th>\n",
       "      <th>name</th>\n",
       "      <th>url</th>\n",
       "      <th>category</th>\n",
       "      <th>subcategory</th>\n",
       "      <th>location</th>\n",
       "      <th>status</th>\n",
       "      <th>goal</th>\n",
       "      <th>pledged</th>\n",
       "      <th>funded percentage</th>\n",
       "      <th>backers</th>\n",
       "      <th>funded date</th>\n",
       "      <th>levels</th>\n",
       "      <th>reward levels</th>\n",
       "      <th>updates</th>\n",
       "      <th>comments</th>\n",
       "      <th>duration</th>\n",
       "    </tr>\n",
       "    <tr>\n",
       "      <th>project id</th>\n",
       "      <th></th>\n",
       "      <th></th>\n",
       "      <th></th>\n",
       "      <th></th>\n",
       "      <th></th>\n",
       "      <th></th>\n",
       "      <th></th>\n",
       "      <th></th>\n",
       "      <th></th>\n",
       "      <th></th>\n",
       "      <th></th>\n",
       "      <th></th>\n",
       "      <th></th>\n",
       "      <th></th>\n",
       "      <th></th>\n",
       "      <th></th>\n",
       "    </tr>\n",
       "  </thead>\n",
       "  <tbody>\n",
       "    <tr>\n",
       "      <th>39409</th>\n",
       "      <td>WHILE THE TREES SLEEP</td>\n",
       "      <td>http://www.kickstarter.com/projects/emiliesaba...</td>\n",
       "      <td>Film &amp; Video</td>\n",
       "      <td>Short Film</td>\n",
       "      <td>Columbia, MO</td>\n",
       "      <td>successful</td>\n",
       "      <td>10500.0</td>\n",
       "      <td>11545.0</td>\n",
       "      <td>1.099524</td>\n",
       "      <td>66</td>\n",
       "      <td>Fri, 19 Aug 2011 19:28:17 -0000</td>\n",
       "      <td>7</td>\n",
       "      <td>$25,$50,$100,$250,$500,$1,000,$2,500</td>\n",
       "      <td>10</td>\n",
       "      <td>2</td>\n",
       "      <td>30.00</td>\n",
       "    </tr>\n",
       "    <tr>\n",
       "      <th>126581</th>\n",
       "      <td>Educational Online Trading Card Game</td>\n",
       "      <td>http://www.kickstarter.com/projects/972789543/...</td>\n",
       "      <td>Games</td>\n",
       "      <td>Board &amp; Card Games</td>\n",
       "      <td>Maplewood, NJ</td>\n",
       "      <td>failed</td>\n",
       "      <td>4000.0</td>\n",
       "      <td>20.0</td>\n",
       "      <td>0.005000</td>\n",
       "      <td>2</td>\n",
       "      <td>Mon, 02 Aug 2010 03:59:00 -0000</td>\n",
       "      <td>5</td>\n",
       "      <td>$1,$5,$10,$25,$50</td>\n",
       "      <td>6</td>\n",
       "      <td>0</td>\n",
       "      <td>47.18</td>\n",
       "    </tr>\n",
       "    <tr>\n",
       "      <th>138119</th>\n",
       "      <td>STRUM</td>\n",
       "      <td>http://www.kickstarter.com/projects/185476022/...</td>\n",
       "      <td>Film &amp; Video</td>\n",
       "      <td>Animation</td>\n",
       "      <td>Los Angeles, CA</td>\n",
       "      <td>live</td>\n",
       "      <td>20000.0</td>\n",
       "      <td>56.0</td>\n",
       "      <td>0.002800</td>\n",
       "      <td>3</td>\n",
       "      <td>Fri, 08 Jun 2012 00:00:31 -0000</td>\n",
       "      <td>10</td>\n",
       "      <td>$1,$10,$25,$40,$50,$100,$250,$1,000,$1,337,$9,001</td>\n",
       "      <td>1</td>\n",
       "      <td>0</td>\n",
       "      <td>28.00</td>\n",
       "    </tr>\n",
       "    <tr>\n",
       "      <th>237090</th>\n",
       "      <td>GETTING OVER - One son's search to finally kno...</td>\n",
       "      <td>http://www.kickstarter.com/projects/charnick/g...</td>\n",
       "      <td>Film &amp; Video</td>\n",
       "      <td>Documentary</td>\n",
       "      <td>Los Angeles, CA</td>\n",
       "      <td>successful</td>\n",
       "      <td>6000.0</td>\n",
       "      <td>6535.0</td>\n",
       "      <td>1.089167</td>\n",
       "      <td>100</td>\n",
       "      <td>Sun, 08 Apr 2012 02:14:00 -0000</td>\n",
       "      <td>13</td>\n",
       "      <td>$1,$10,$25,$30,$50,$75,$85,$100,$110,$250,$500...</td>\n",
       "      <td>4</td>\n",
       "      <td>0</td>\n",
       "      <td>32.22</td>\n",
       "    </tr>\n",
       "    <tr>\n",
       "      <th>246101</th>\n",
       "      <td>The Launch of FlyeGrlRoyalty &amp;quot;The New Nam...</td>\n",
       "      <td>http://www.kickstarter.com/projects/flyegrlroy...</td>\n",
       "      <td>Fashion</td>\n",
       "      <td>Fashion</td>\n",
       "      <td>Novi, MI</td>\n",
       "      <td>failed</td>\n",
       "      <td>3500.0</td>\n",
       "      <td>0.0</td>\n",
       "      <td>0.000000</td>\n",
       "      <td>0</td>\n",
       "      <td>Wed, 01 Jun 2011 15:25:39 -0000</td>\n",
       "      <td>6</td>\n",
       "      <td>$10,$25,$50,$100,$150,$250</td>\n",
       "      <td>2</td>\n",
       "      <td>0</td>\n",
       "      <td>30.00</td>\n",
       "    </tr>\n",
       "  </tbody>\n",
       "</table>\n",
       "</div>"
      ],
      "text/plain": [
       "                                                         name  \\\n",
       "project id                                                      \n",
       "39409                                   WHILE THE TREES SLEEP   \n",
       "126581                   Educational Online Trading Card Game   \n",
       "138119                                                  STRUM   \n",
       "237090      GETTING OVER - One son's search to finally kno...   \n",
       "246101      The Launch of FlyeGrlRoyalty &quot;The New Nam...   \n",
       "\n",
       "                                                          url      category  \\\n",
       "project id                                                                    \n",
       "39409       http://www.kickstarter.com/projects/emiliesaba...  Film & Video   \n",
       "126581      http://www.kickstarter.com/projects/972789543/...         Games   \n",
       "138119      http://www.kickstarter.com/projects/185476022/...  Film & Video   \n",
       "237090      http://www.kickstarter.com/projects/charnick/g...  Film & Video   \n",
       "246101      http://www.kickstarter.com/projects/flyegrlroy...       Fashion   \n",
       "\n",
       "                   subcategory         location      status     goal  pledged  \\\n",
       "project id                                                                      \n",
       "39409               Short Film     Columbia, MO  successful  10500.0  11545.0   \n",
       "126581      Board & Card Games    Maplewood, NJ      failed   4000.0     20.0   \n",
       "138119               Animation  Los Angeles, CA        live  20000.0     56.0   \n",
       "237090             Documentary  Los Angeles, CA  successful   6000.0   6535.0   \n",
       "246101                 Fashion         Novi, MI      failed   3500.0      0.0   \n",
       "\n",
       "            funded percentage  backers                      funded date  \\\n",
       "project id                                                                \n",
       "39409                1.099524       66  Fri, 19 Aug 2011 19:28:17 -0000   \n",
       "126581               0.005000        2  Mon, 02 Aug 2010 03:59:00 -0000   \n",
       "138119               0.002800        3  Fri, 08 Jun 2012 00:00:31 -0000   \n",
       "237090               1.089167      100  Sun, 08 Apr 2012 02:14:00 -0000   \n",
       "246101               0.000000        0  Wed, 01 Jun 2011 15:25:39 -0000   \n",
       "\n",
       "            levels                                      reward levels  \\\n",
       "project id                                                              \n",
       "39409            7               $25,$50,$100,$250,$500,$1,000,$2,500   \n",
       "126581           5                                  $1,$5,$10,$25,$50   \n",
       "138119          10  $1,$10,$25,$40,$50,$100,$250,$1,000,$1,337,$9,001   \n",
       "237090          13  $1,$10,$25,$30,$50,$75,$85,$100,$110,$250,$500...   \n",
       "246101           6                         $10,$25,$50,$100,$150,$250   \n",
       "\n",
       "            updates  comments  duration  \n",
       "project id                               \n",
       "39409            10         2     30.00  \n",
       "126581            6         0     47.18  \n",
       "138119            1         0     28.00  \n",
       "237090            4         0     32.22  \n",
       "246101            2         0     30.00  "
      ]
     },
     "execution_count": 4,
     "metadata": {},
     "output_type": "execute_result"
    }
   ],
   "source": [
    "df.head()"
   ]
  },
  {
   "cell_type": "code",
   "execution_count": 5,
   "metadata": {
    "collapsed": true
   },
   "outputs": [],
   "source": [
    "df.columns = df.columns.str.replace(' ', '_')"
   ]
  },
  {
   "cell_type": "code",
   "execution_count": 6,
   "metadata": {
    "collapsed": false,
    "scrolled": true
   },
   "outputs": [],
   "source": [
    "df.category = df.category.str.replace('Film &amp; Video', 'Film & Video')"
   ]
  },
  {
   "cell_type": "code",
   "execution_count": 7,
   "metadata": {
    "collapsed": false
   },
   "outputs": [
    {
     "data": {
      "text/html": [
       "<div>\n",
       "<table border=\"1\" class=\"dataframe\">\n",
       "  <thead>\n",
       "    <tr style=\"text-align: right;\">\n",
       "      <th></th>\n",
       "      <th>name</th>\n",
       "      <th>url</th>\n",
       "      <th>category</th>\n",
       "      <th>subcategory</th>\n",
       "      <th>location</th>\n",
       "      <th>status</th>\n",
       "      <th>goal</th>\n",
       "      <th>pledged</th>\n",
       "      <th>funded_percentage</th>\n",
       "      <th>backers</th>\n",
       "      <th>funded_date</th>\n",
       "      <th>levels</th>\n",
       "      <th>reward_levels</th>\n",
       "      <th>updates</th>\n",
       "      <th>comments</th>\n",
       "      <th>duration</th>\n",
       "    </tr>\n",
       "    <tr>\n",
       "      <th>project id</th>\n",
       "      <th></th>\n",
       "      <th></th>\n",
       "      <th></th>\n",
       "      <th></th>\n",
       "      <th></th>\n",
       "      <th></th>\n",
       "      <th></th>\n",
       "      <th></th>\n",
       "      <th></th>\n",
       "      <th></th>\n",
       "      <th></th>\n",
       "      <th></th>\n",
       "      <th></th>\n",
       "      <th></th>\n",
       "      <th></th>\n",
       "      <th></th>\n",
       "    </tr>\n",
       "  </thead>\n",
       "  <tbody>\n",
       "    <tr>\n",
       "      <th>39409</th>\n",
       "      <td>WHILE THE TREES SLEEP</td>\n",
       "      <td>http://www.kickstarter.com/projects/emiliesaba...</td>\n",
       "      <td>Film &amp; Video</td>\n",
       "      <td>Short Film</td>\n",
       "      <td>Columbia, MO</td>\n",
       "      <td>successful</td>\n",
       "      <td>10500.0</td>\n",
       "      <td>11545.0</td>\n",
       "      <td>1.099524</td>\n",
       "      <td>66</td>\n",
       "      <td>Fri, 19 Aug 2011 19:28:17 -0000</td>\n",
       "      <td>7</td>\n",
       "      <td>$25,$50,$100,$250,$500,$1,000,$2,500</td>\n",
       "      <td>10</td>\n",
       "      <td>2</td>\n",
       "      <td>30.00</td>\n",
       "    </tr>\n",
       "    <tr>\n",
       "      <th>126581</th>\n",
       "      <td>Educational Online Trading Card Game</td>\n",
       "      <td>http://www.kickstarter.com/projects/972789543/...</td>\n",
       "      <td>Games</td>\n",
       "      <td>Board &amp; Card Games</td>\n",
       "      <td>Maplewood, NJ</td>\n",
       "      <td>failed</td>\n",
       "      <td>4000.0</td>\n",
       "      <td>20.0</td>\n",
       "      <td>0.005000</td>\n",
       "      <td>2</td>\n",
       "      <td>Mon, 02 Aug 2010 03:59:00 -0000</td>\n",
       "      <td>5</td>\n",
       "      <td>$1,$5,$10,$25,$50</td>\n",
       "      <td>6</td>\n",
       "      <td>0</td>\n",
       "      <td>47.18</td>\n",
       "    </tr>\n",
       "    <tr>\n",
       "      <th>138119</th>\n",
       "      <td>STRUM</td>\n",
       "      <td>http://www.kickstarter.com/projects/185476022/...</td>\n",
       "      <td>Film &amp; Video</td>\n",
       "      <td>Animation</td>\n",
       "      <td>Los Angeles, CA</td>\n",
       "      <td>live</td>\n",
       "      <td>20000.0</td>\n",
       "      <td>56.0</td>\n",
       "      <td>0.002800</td>\n",
       "      <td>3</td>\n",
       "      <td>Fri, 08 Jun 2012 00:00:31 -0000</td>\n",
       "      <td>10</td>\n",
       "      <td>$1,$10,$25,$40,$50,$100,$250,$1,000,$1,337,$9,001</td>\n",
       "      <td>1</td>\n",
       "      <td>0</td>\n",
       "      <td>28.00</td>\n",
       "    </tr>\n",
       "    <tr>\n",
       "      <th>237090</th>\n",
       "      <td>GETTING OVER - One son's search to finally kno...</td>\n",
       "      <td>http://www.kickstarter.com/projects/charnick/g...</td>\n",
       "      <td>Film &amp; Video</td>\n",
       "      <td>Documentary</td>\n",
       "      <td>Los Angeles, CA</td>\n",
       "      <td>successful</td>\n",
       "      <td>6000.0</td>\n",
       "      <td>6535.0</td>\n",
       "      <td>1.089167</td>\n",
       "      <td>100</td>\n",
       "      <td>Sun, 08 Apr 2012 02:14:00 -0000</td>\n",
       "      <td>13</td>\n",
       "      <td>$1,$10,$25,$30,$50,$75,$85,$100,$110,$250,$500...</td>\n",
       "      <td>4</td>\n",
       "      <td>0</td>\n",
       "      <td>32.22</td>\n",
       "    </tr>\n",
       "    <tr>\n",
       "      <th>246101</th>\n",
       "      <td>The Launch of FlyeGrlRoyalty &amp;quot;The New Nam...</td>\n",
       "      <td>http://www.kickstarter.com/projects/flyegrlroy...</td>\n",
       "      <td>Fashion</td>\n",
       "      <td>Fashion</td>\n",
       "      <td>Novi, MI</td>\n",
       "      <td>failed</td>\n",
       "      <td>3500.0</td>\n",
       "      <td>0.0</td>\n",
       "      <td>0.000000</td>\n",
       "      <td>0</td>\n",
       "      <td>Wed, 01 Jun 2011 15:25:39 -0000</td>\n",
       "      <td>6</td>\n",
       "      <td>$10,$25,$50,$100,$150,$250</td>\n",
       "      <td>2</td>\n",
       "      <td>0</td>\n",
       "      <td>30.00</td>\n",
       "    </tr>\n",
       "  </tbody>\n",
       "</table>\n",
       "</div>"
      ],
      "text/plain": [
       "                                                         name  \\\n",
       "project id                                                      \n",
       "39409                                   WHILE THE TREES SLEEP   \n",
       "126581                   Educational Online Trading Card Game   \n",
       "138119                                                  STRUM   \n",
       "237090      GETTING OVER - One son's search to finally kno...   \n",
       "246101      The Launch of FlyeGrlRoyalty &quot;The New Nam...   \n",
       "\n",
       "                                                          url      category  \\\n",
       "project id                                                                    \n",
       "39409       http://www.kickstarter.com/projects/emiliesaba...  Film & Video   \n",
       "126581      http://www.kickstarter.com/projects/972789543/...         Games   \n",
       "138119      http://www.kickstarter.com/projects/185476022/...  Film & Video   \n",
       "237090      http://www.kickstarter.com/projects/charnick/g...  Film & Video   \n",
       "246101      http://www.kickstarter.com/projects/flyegrlroy...       Fashion   \n",
       "\n",
       "                   subcategory         location      status     goal  pledged  \\\n",
       "project id                                                                      \n",
       "39409               Short Film     Columbia, MO  successful  10500.0  11545.0   \n",
       "126581      Board & Card Games    Maplewood, NJ      failed   4000.0     20.0   \n",
       "138119               Animation  Los Angeles, CA        live  20000.0     56.0   \n",
       "237090             Documentary  Los Angeles, CA  successful   6000.0   6535.0   \n",
       "246101                 Fashion         Novi, MI      failed   3500.0      0.0   \n",
       "\n",
       "            funded_percentage  backers                      funded_date  \\\n",
       "project id                                                                \n",
       "39409                1.099524       66  Fri, 19 Aug 2011 19:28:17 -0000   \n",
       "126581               0.005000        2  Mon, 02 Aug 2010 03:59:00 -0000   \n",
       "138119               0.002800        3  Fri, 08 Jun 2012 00:00:31 -0000   \n",
       "237090               1.089167      100  Sun, 08 Apr 2012 02:14:00 -0000   \n",
       "246101               0.000000        0  Wed, 01 Jun 2011 15:25:39 -0000   \n",
       "\n",
       "            levels                                      reward_levels  \\\n",
       "project id                                                              \n",
       "39409            7               $25,$50,$100,$250,$500,$1,000,$2,500   \n",
       "126581           5                                  $1,$5,$10,$25,$50   \n",
       "138119          10  $1,$10,$25,$40,$50,$100,$250,$1,000,$1,337,$9,001   \n",
       "237090          13  $1,$10,$25,$30,$50,$75,$85,$100,$110,$250,$500...   \n",
       "246101           6                         $10,$25,$50,$100,$150,$250   \n",
       "\n",
       "            updates  comments  duration  \n",
       "project id                               \n",
       "39409            10         2     30.00  \n",
       "126581            6         0     47.18  \n",
       "138119            1         0     28.00  \n",
       "237090            4         0     32.22  \n",
       "246101            2         0     30.00  "
      ]
     },
     "execution_count": 7,
     "metadata": {},
     "output_type": "execute_result"
    }
   ],
   "source": [
    "df.head()"
   ]
  },
  {
   "cell_type": "code",
   "execution_count": 8,
   "metadata": {
    "collapsed": false,
    "scrolled": true
   },
   "outputs": [
    {
     "data": {
      "text/plain": [
       "name                    0\n",
       "url                     0\n",
       "category                0\n",
       "subcategory             0\n",
       "location             1322\n",
       "status                  0\n",
       "goal                    0\n",
       "pledged                12\n",
       "funded_percentage       0\n",
       "backers                 0\n",
       "funded_date             0\n",
       "levels                  0\n",
       "reward_levels          59\n",
       "updates                 0\n",
       "comments                0\n",
       "duration                0\n",
       "dtype: int64"
      ]
     },
     "execution_count": 8,
     "metadata": {},
     "output_type": "execute_result"
    }
   ],
   "source": [
    "df.isnull().sum()"
   ]
  },
  {
   "cell_type": "markdown",
   "metadata": {},
   "source": [
    "#### What is the mean (total) pledge that projects get? (not per backer)"
   ]
  },
  {
   "cell_type": "code",
   "execution_count": 9,
   "metadata": {
    "collapsed": false
   },
   "outputs": [
    {
     "data": {
      "text/plain": [
       "4980.749678963979"
      ]
     },
     "execution_count": 9,
     "metadata": {},
     "output_type": "execute_result"
    }
   ],
   "source": [
    "df['pledged'].mean()"
   ]
  },
  {
   "cell_type": "markdown",
   "metadata": {},
   "source": [
    "#### Create a histogram that shows the distribution for number of backers"
   ]
  },
  {
   "cell_type": "code",
   "execution_count": 10,
   "metadata": {
    "collapsed": true
   },
   "outputs": [],
   "source": [
    "%matplotlib inline"
   ]
  },
  {
   "cell_type": "code",
   "execution_count": 11,
   "metadata": {
    "collapsed": false,
    "scrolled": true
   },
   "outputs": [
    {
     "data": {
      "text/plain": [
       "<matplotlib.axes._subplots.AxesSubplot at 0x7f0f982ab7d0>"
      ]
     },
     "execution_count": 11,
     "metadata": {},
     "output_type": "execute_result"
    },
    {
     "data": {
      "image/png": "[encoded data removed]",
      "text/plain": [
       "<matplotlib.figure.Figure at 0x7f0f989f3150>"
      ]
     },
     "metadata": {},
     "output_type": "display_data"
    }
   ],
   "source": [
    "df.backers.plot(kind='hist', logy=True)"
   ]
  },
  {
   "cell_type": "code",
   "execution_count": 41,
   "metadata": {
    "collapsed": false
   },
   "outputs": [
    {
     "data": {
      "text/plain": [
       "count    45957.000000\n",
       "mean        69.973192\n",
       "std        688.628479\n",
       "min          0.000000\n",
       "25%          5.000000\n",
       "50%         23.000000\n",
       "75%         59.000000\n",
       "max      87142.000000\n",
       "Name: backers, dtype: float64"
      ]
     },
     "execution_count": 41,
     "metadata": {},
     "output_type": "execute_result"
    }
   ],
   "source": [
    "df.backers.describe()"
   ]
  },
  {
   "cell_type": "markdown",
   "metadata": {},
   "source": [
    "#### Is the ‘duration’ variable normally distributed?"
   ]
  },
  {
   "cell_type": "code",
   "execution_count": 12,
   "metadata": {
    "collapsed": false
   },
   "outputs": [
    {
     "data": {
      "text/plain": [
       "<matplotlib.axes._subplots.AxesSubplot at 0x7f0f97975e10>"
      ]
     },
     "execution_count": 12,
     "metadata": {},
     "output_type": "execute_result"
    },
    {
     "data": {
      "image/png": "[encoded data removed]",
      "text/plain": [
       "<matplotlib.figure.Figure at 0x7f0f97213f90>"
      ]
     },
     "metadata": {},
     "output_type": "display_data"
    }
   ],
   "source": [
    "df.duration.plot(kind='hist')"
   ]
  },
  {
   "cell_type": "code",
   "execution_count": 42,
   "metadata": {
    "collapsed": false
   },
   "outputs": [
    {
     "data": {
      "text/plain": [
       "count    45957.000000\n",
       "mean        39.995547\n",
       "std         17.414458\n",
       "min          1.000000\n",
       "25%         30.000000\n",
       "50%         32.000000\n",
       "75%         48.390000\n",
       "max         91.960000\n",
       "Name: duration, dtype: float64"
      ]
     },
     "execution_count": 42,
     "metadata": {},
     "output_type": "execute_result"
    }
   ],
   "source": [
    "df.duration.describe()"
   ]
  },
  {
   "cell_type": "code",
   "execution_count": 13,
   "metadata": {
    "collapsed": false,
    "scrolled": true
   },
   "outputs": [
    {
     "data": {
      "text/plain": [
       "NormaltestResult(statistic=6985.5754355009585, pvalue=0.0)"
      ]
     },
     "execution_count": 13,
     "metadata": {},
     "output_type": "execute_result"
    }
   ],
   "source": [
    "stats.mstats.normaltest(df.duration)"
   ]
  },
  {
   "cell_type": "markdown",
   "metadata": {},
   "source": [
    "#### What's the best length of time to run a campaign?"
   ]
  },
  {
   "cell_type": "code",
   "execution_count": 14,
   "metadata": {
    "collapsed": true
   },
   "outputs": [],
   "source": [
    "df.status = df.status.astype('category')"
   ]
  },
  {
   "cell_type": "code",
   "execution_count": 15,
   "metadata": {
    "collapsed": false,
    "scrolled": true
   },
   "outputs": [
    {
     "data": {
      "text/plain": [
       "status           \n",
       "canceled    count       59.000000\n",
       "            mean        38.943220\n",
       "            std         13.601183\n",
       "            min         15.000000\n",
       "            25%         30.000000\n",
       "            50%         30.000000\n",
       "            75%         57.725000\n",
       "            max         60.000000\n",
       "failed      count    18996.000000\n",
       "            mean        42.977828\n",
       "            std         18.691720\n",
       "            min          1.000000\n",
       "            25%         30.000000\n",
       "            50%         36.000000\n",
       "            75%         59.872500\n",
       "            max         91.960000\n",
       "live        count     3929.000000\n",
       "            mean        37.499801\n",
       "            std         12.688043\n",
       "            min          7.000000\n",
       "            25%         30.000000\n",
       "            50%         30.000000\n",
       "            75%         45.000000\n",
       "            max         60.000000\n",
       "successful  count    22969.000000\n",
       "            mean        37.960475\n",
       "            std         16.651234\n",
       "            min          1.000000\n",
       "            25%         30.000000\n",
       "            50%         31.000000\n",
       "            75%         45.000000\n",
       "            max         91.960000\n",
       "suspended   count        4.000000\n",
       "            mean        30.000000\n",
       "            std          0.000000\n",
       "            min         30.000000\n",
       "            25%         30.000000\n",
       "            50%         30.000000\n",
       "            75%         30.000000\n",
       "            max         30.000000\n",
       "Name: duration, dtype: float64"
      ]
     },
     "execution_count": 15,
     "metadata": {},
     "output_type": "execute_result"
    }
   ],
   "source": [
    "df.groupby('status').duration.describe()"
   ]
  },
  {
   "cell_type": "code",
   "execution_count": 16,
   "metadata": {
    "collapsed": false
   },
   "outputs": [
    {
     "data": {
      "text/plain": [
       "status\n",
       "canceled      184.992181\n",
       "failed        349.380413\n",
       "live          160.986440\n",
       "successful    277.263585\n",
       "suspended       0.000000\n",
       "Name: duration, dtype: float64"
      ]
     },
     "execution_count": 16,
     "metadata": {},
     "output_type": "execute_result"
    }
   ],
   "source": [
    "df.groupby('status').duration.var()"
   ]
  },
  {
   "cell_type": "code",
   "execution_count": 17,
   "metadata": {
    "collapsed": false,
    "scrolled": true
   },
   "outputs": [
    {
     "data": {
      "text/plain": [
       "Ttest_indResult(statistic=28.746477534676764, pvalue=8.0920713757277501e-180)"
      ]
     },
     "execution_count": 17,
     "metadata": {},
     "output_type": "execute_result"
    }
   ],
   "source": [
    "stats.ttest_ind(df[df.status=='failed'].duration, df[df.status=='successful'].duration, equal_var=False)"
   ]
  },
  {
   "cell_type": "code",
   "execution_count": 18,
   "metadata": {
    "collapsed": false
   },
   "outputs": [
    {
     "data": {
      "text/plain": [
       "Ttest_indResult(statistic=0.55393132813094681, pvalue=0.58173902503156427)"
      ]
     },
     "execution_count": 18,
     "metadata": {},
     "output_type": "execute_result"
    }
   ],
   "source": [
    "stats.ttest_ind(df[df.status=='canceled'].duration, df[df.status=='successful'].duration, equal_var=False)"
   ]
  },
  {
   "cell_type": "code",
   "execution_count": 19,
   "metadata": {
    "collapsed": false
   },
   "outputs": [
    {
     "data": {
      "text/plain": [
       "Ttest_indResult(statistic=-2.2718551478252449, pvalue=0.026776508793292984)"
      ]
     },
     "execution_count": 19,
     "metadata": {},
     "output_type": "execute_result"
    }
   ],
   "source": [
    "stats.ttest_ind(df[df.status=='canceled'].duration, df[df.status=='failed'].duration, equal_var=False)"
   ]
  },
  {
   "cell_type": "code",
   "execution_count": 77,
   "metadata": {
    "collapsed": false
   },
   "outputs": [
    {
     "data": {
      "text/plain": [
       "<matplotlib.axes._subplots.AxesSubplot at 0x7f0f8738bad0>"
      ]
     },
     "execution_count": 77,
     "metadata": {},
     "output_type": "execute_result"
    },
    {
     "data": {
      "image/png": "[encoded data removed]",
      "text/plain": [
       "<matplotlib.figure.Figure at 0x7f0f8dea41d0>"
      ]
     },
     "metadata": {},
     "output_type": "display_data"
    }
   ],
   "source": [
    "df.groupby('status').duration.median().plot(kind='bar', title='duration')"
   ]
  },
  {
   "cell_type": "markdown",
   "metadata": {},
   "source": [
    "#### What's the ideal pledge goal?"
   ]
  },
  {
   "cell_type": "code",
   "execution_count": 21,
   "metadata": {
    "collapsed": false,
    "scrolled": true
   },
   "outputs": [
    {
     "data": {
      "text/plain": [
       "count    4.595700e+04\n",
       "mean     1.194271e+04\n",
       "std      1.887583e+05\n",
       "min      1.000000e-02\n",
       "25%      1.800000e+03\n",
       "50%      4.000000e+03\n",
       "75%      9.862000e+03\n",
       "max      2.147484e+07\n",
       "Name: goal, dtype: float64"
      ]
     },
     "execution_count": 21,
     "metadata": {},
     "output_type": "execute_result"
    }
   ],
   "source": [
    "df.goal.describe()"
   ]
  },
  {
   "cell_type": "code",
   "execution_count": 22,
   "metadata": {
    "collapsed": false
   },
   "outputs": [
    {
     "data": {
      "text/plain": [
       "<matplotlib.axes._subplots.AxesSubplot at 0x7f0f97405ed0>"
      ]
     },
     "execution_count": 22,
     "metadata": {},
     "output_type": "execute_result"
    },
    {
     "data": {
      "image/png": "[encoded data removed]",
      "text/plain": [
       "<matplotlib.figure.Figure at 0x7f0f977faf50>"
      ]
     },
     "metadata": {},
     "output_type": "display_data"
    }
   ],
   "source": [
    "df.goal.plot(kind='hist', logy=True)"
   ]
  },
  {
   "cell_type": "code",
   "execution_count": 23,
   "metadata": {
    "collapsed": false,
    "scrolled": false
   },
   "outputs": [
    {
     "data": {
      "text/plain": [
       "NormaltestResult(statistic=183201.40366108515, pvalue=0.0)"
      ]
     },
     "execution_count": 23,
     "metadata": {},
     "output_type": "execute_result"
    }
   ],
   "source": [
    "stats.mstats.normaltest(df.goal)"
   ]
  },
  {
   "cell_type": "code",
   "execution_count": 24,
   "metadata": {
    "collapsed": false,
    "scrolled": true
   },
   "outputs": [
    {
     "data": {
      "text/plain": [
       "<matplotlib.axes._subplots.AxesSubplot at 0x7f0f96f942d0>"
      ]
     },
     "execution_count": 24,
     "metadata": {},
     "output_type": "execute_result"
    },
    {
     "data": {
      "image/png": "[encoded data removed]",
      "text/plain": [
       "<matplotlib.figure.Figure at 0x7f0f9818a410>"
      ]
     },
     "metadata": {},
     "output_type": "display_data"
    }
   ],
   "source": [
    "df.groupby('status').goal.median().plot(kind='bar')"
   ]
  },
  {
   "cell_type": "code",
   "execution_count": 25,
   "metadata": {
    "collapsed": false
   },
   "outputs": [
    {
     "data": {
      "text/plain": [
       "status\n",
       "canceled      15000.0\n",
       "failed         5000.0\n",
       "live           5000.0\n",
       "successful     3000.0\n",
       "suspended     26000.0\n",
       "Name: goal, dtype: float64"
      ]
     },
     "execution_count": 25,
     "metadata": {},
     "output_type": "execute_result"
    }
   ],
   "source": [
    "df.groupby('status').goal.median()"
   ]
  },
  {
   "cell_type": "code",
   "execution_count": 26,
   "metadata": {
    "collapsed": false
   },
   "outputs": [
    {
     "data": {
      "text/plain": [
       "status\n",
       "canceled      9.832872e+09\n",
       "failed        4.802337e+10\n",
       "live          1.829744e+11\n",
       "successful    1.528697e+08\n",
       "suspended     7.117292e+08\n",
       "Name: goal, dtype: float64"
      ]
     },
     "execution_count": 26,
     "metadata": {},
     "output_type": "execute_result"
    }
   ],
   "source": [
    "df.groupby('status').goal.var()"
   ]
  },
  {
   "cell_type": "code",
   "execution_count": 27,
   "metadata": {
    "collapsed": false,
    "scrolled": true
   },
   "outputs": [
    {
     "data": {
      "text/plain": [
       "Ttest_indResult(statistic=6.8254956911691078, pvalue=9.0252510807034373e-12)"
      ]
     },
     "execution_count": 27,
     "metadata": {},
     "output_type": "execute_result"
    }
   ],
   "source": [
    "stats.ttest_ind(df[df.status=='failed'].goal, df[df.status=='successful'].goal, equal_var=False)"
   ]
  },
  {
   "cell_type": "markdown",
   "metadata": {},
   "source": [
    "#### What type of projects would be most successful at getting funded?"
   ]
  },
  {
   "cell_type": "code",
   "execution_count": 28,
   "metadata": {
    "collapsed": true
   },
   "outputs": [],
   "source": [
    "def calculate_success_rate(attribute1, attribute2=df.status):\n",
    "    crosstab_df = pd.crosstab(attribute1, attribute2)\n",
    "    return crosstab_df.successful / (crosstab_df.canceled + crosstab_df.failed + crosstab_df.successful + crosstab_df.suspended)"
   ]
  },
  {
   "cell_type": "code",
   "execution_count": 29,
   "metadata": {
    "collapsed": false,
    "scrolled": true
   },
   "outputs": [
    {
     "data": {
      "text/plain": [
       "<matplotlib.axes._subplots.AxesSubplot at 0x7f0f96fa7a90>"
      ]
     },
     "execution_count": 29,
     "metadata": {},
     "output_type": "execute_result"
    },
    {
     "data": {
      "image/png": "[encoded data removed]",
      "text/plain": [
       "<matplotlib.figure.Figure at 0x7f0f97695ed0>"
      ]
     },
     "metadata": {},
     "output_type": "display_data"
    }
   ],
   "source": [
    "calculate_success_rate(df.category).sort_values(ascending=False).plot(kind='bar', title='success rate by category')"
   ]
  },
  {
   "cell_type": "markdown",
   "metadata": {},
   "source": [
    "#### Is there an ideal month/day/time to launch a campaign?"
   ]
  },
  {
   "cell_type": "code",
   "execution_count": 30,
   "metadata": {
    "collapsed": false
   },
   "outputs": [],
   "source": [
    "df.funded_date = pd.to_datetime(df.funded_date)"
   ]
  },
  {
   "cell_type": "code",
   "execution_count": 31,
   "metadata": {
    "collapsed": false
   },
   "outputs": [],
   "source": [
    "df['month'] = df.funded_date.dt.month\n",
    "df['day'] = df.funded_date.dt.weekday_name\n",
    "df['hour'] = df.funded_date.dt.hour"
   ]
  },
  {
   "cell_type": "code",
   "execution_count": 32,
   "metadata": {
    "collapsed": false,
    "scrolled": false
   },
   "outputs": [
    {
     "data": {
      "text/plain": [
       "<matplotlib.axes._subplots.AxesSubplot at 0x7f0f9755e690>"
      ]
     },
     "execution_count": 32,
     "metadata": {},
     "output_type": "execute_result"
    },
    {
     "data": {
      "image/png": "[encoded data removed]",
      "text/plain": [
       "<matplotlib.figure.Figure at 0x7f0f97594c10>"
      ]
     },
     "metadata": {},
     "output_type": "display_data"
    }
   ],
   "source": [
    "calculate_success_rate(df.month).sort_values(ascending=False).plot(kind='bar', title='success rate by month')"
   ]
  },
  {
   "cell_type": "code",
   "execution_count": 33,
   "metadata": {
    "collapsed": false
   },
   "outputs": [
    {
     "data": {
      "text/plain": [
       "<matplotlib.axes._subplots.AxesSubplot at 0x7f0f9746b390>"
      ]
     },
     "execution_count": 33,
     "metadata": {},
     "output_type": "execute_result"
    },
    {
     "data": {
      "image/png": "[encoded data removed]",
      "text/plain": [
       "<matplotlib.figure.Figure at 0x7f0f97594950>"
      ]
     },
     "metadata": {},
     "output_type": "display_data"
    }
   ],
   "source": [
    "calculate_success_rate(df.day).sort_values(ascending=False).plot(kind='bar', title='success rate by day')"
   ]
  },
  {
   "cell_type": "code",
   "execution_count": 34,
   "metadata": {
    "collapsed": false,
    "scrolled": false
   },
   "outputs": [
    {
     "data": {
      "text/plain": [
       "<matplotlib.axes._subplots.AxesSubplot at 0x7f0f9719b7d0>"
      ]
     },
     "execution_count": 34,
     "metadata": {},
     "output_type": "execute_result"
    },
    {
     "data": {
      "image/png": "[encoded data removed]",
      "text/plain": [
       "<matplotlib.figure.Figure at 0x7f0f971ba450>"
      ]
     },
     "metadata": {},
     "output_type": "display_data"
    }
   ],
   "source": [
    "calculate_success_rate(df.hour).sort_values(ascending=False).plot(kind='bar', title='success rate by hour')"
   ]
  },
  {
   "cell_type": "markdown",
   "metadata": {},
   "source": [
    "#### Is there any correlation between the update frequency and the success of the projects?"
   ]
  },
  {
   "cell_type": "code",
   "execution_count": 35,
   "metadata": {
    "collapsed": true
   },
   "outputs": [
    {
     "data": {
      "text/plain": [
       "<matplotlib.axes._subplots.AxesSubplot at 0x7f0f96c87fd0>"
      ]
     },
     "execution_count": 35,
     "metadata": {},
     "output_type": "execute_result"
    },
    {
     "data": {
      "image/png": "[encoded data removed]",
      "text/plain": [
       "<matplotlib.figure.Figure at 0x7f0f976fcf50>"
      ]
     },
     "metadata": {},
     "output_type": "display_data"
    }
   ],
   "source": [
    "df.updates.plot(kind='hist')"
   ]
  },
  {
   "cell_type": "code",
   "execution_count": 36,
   "metadata": {
    "collapsed": true
   },
   "outputs": [
    {
     "data": {
      "text/plain": [
       "status           \n",
       "canceled    count       59.000000\n",
       "            mean         1.898305\n",
       "            std          3.346099\n",
       "            min          0.000000\n",
       "            25%          0.000000\n",
       "            50%          1.000000\n",
       "            75%          2.500000\n",
       "            max         20.000000\n",
       "failed      count    18996.000000\n",
       "            mean         1.496894\n",
       "            std          3.237130\n",
       "            min          0.000000\n",
       "            25%          0.000000\n",
       "            50%          0.000000\n",
       "            75%          2.000000\n",
       "            max         83.000000\n",
       "live        count     3929.000000\n",
       "            mean         1.418173\n",
       "            std          2.738796\n",
       "            min          0.000000\n",
       "            25%          0.000000\n",
       "            50%          0.000000\n",
       "            75%          2.000000\n",
       "            max         30.000000\n",
       "successful  count    22969.000000\n",
       "            mean         6.687144\n",
       "            std          7.709163\n",
       "            min          0.000000\n",
       "            25%          2.000000\n",
       "            50%          5.000000\n",
       "            75%          9.000000\n",
       "            max        149.000000\n",
       "suspended   count        4.000000\n",
       "            mean         5.500000\n",
       "            std         10.344080\n",
       "            min          0.000000\n",
       "            25%          0.000000\n",
       "            50%          0.500000\n",
       "            75%          6.000000\n",
       "            max         21.000000\n",
       "Name: updates, dtype: float64"
      ]
     },
     "execution_count": 36,
     "metadata": {},
     "output_type": "execute_result"
    }
   ],
   "source": [
    "df.groupby('status').updates.describe()"
   ]
  },
  {
   "cell_type": "code",
   "execution_count": 37,
   "metadata": {
    "collapsed": true
   },
   "outputs": [
    {
     "data": {
      "text/plain": [
       "<matplotlib.axes._subplots.AxesSubplot at 0x7f0f96c80310>"
      ]
     },
     "execution_count": 37,
     "metadata": {},
     "output_type": "execute_result"
    },
    {
     "data": {
      "image/png": "[encoded data removed]",
      "text/plain": [
       "<matplotlib.figure.Figure at 0x7f0f9679ff90>"
      ]
     },
     "metadata": {},
     "output_type": "display_data"
    }
   ],
   "source": [
    "df.groupby('status').updates.median().plot(kind='bar', title='median updates by status')"
   ]
  },
  {
   "cell_type": "code",
   "execution_count": 38,
   "metadata": {
    "collapsed": false,
    "scrolled": true
   },
   "outputs": [
    {
     "data": {
      "text/plain": [
       "<matplotlib.axes._subplots.AxesSubplot at 0x7f0f96bae310>"
      ]
     },
     "execution_count": 38,
     "metadata": {},
     "output_type": "execute_result"
    },
    {
     "data": {
      "image/png": "[encoded data removed]",
      "text/plain": [
       "<matplotlib.figure.Figure at 0x7f0f96b27c50>"
      ]
     },
     "metadata": {},
     "output_type": "display_data"
    }
   ],
   "source": [
    "df.groupby('status').updates.mean().plot(kind='bar', title='mean updates by status')"
   ]
  },
  {
   "cell_type": "code",
   "execution_count": 39,
   "metadata": {
    "collapsed": false,
    "scrolled": true
   },
   "outputs": [
    {
     "data": {
      "text/plain": [
       "status\n",
       "canceled       11.196376\n",
       "failed         10.479011\n",
       "live            7.501004\n",
       "successful     59.431201\n",
       "suspended     107.000000\n",
       "Name: updates, dtype: float64"
      ]
     },
     "execution_count": 39,
     "metadata": {},
     "output_type": "execute_result"
    }
   ],
   "source": [
    "df.groupby('status').updates.var()"
   ]
  },
  {
   "cell_type": "code",
   "execution_count": 40,
   "metadata": {
    "collapsed": false
   },
   "outputs": [
    {
     "data": {
      "text/plain": [
       "Ttest_indResult(statistic=-92.637313686695634, pvalue=0.0)"
      ]
     },
     "execution_count": 40,
     "metadata": {},
     "output_type": "execute_result"
    }
   ],
   "source": [
    "stats.ttest_ind(df[df.status=='failed'].updates, df[df.status=='successful'].updates, equal_var=False)"
   ]
  },
  {
   "cell_type": "markdown",
   "metadata": {},
   "source": [
    "#### Is there any correlation between the number of comments and the success of the projects?"
   ]
  },
  {
   "cell_type": "code",
   "execution_count": 71,
   "metadata": {
    "collapsed": false,
    "scrolled": true
   },
   "outputs": [
    {
     "data": {
      "text/plain": [
       "<matplotlib.axes._subplots.AxesSubplot at 0x7f0f919331d0>"
      ]
     },
     "execution_count": 71,
     "metadata": {},
     "output_type": "execute_result"
    },
    {
     "data": {
      "image/png": "[encoded data removed]",
      "text/plain": [
       "<matplotlib.figure.Figure at 0x7f0f91553650>"
      ]
     },
     "metadata": {},
     "output_type": "display_data"
    }
   ],
   "source": [
    "df.comments.plot(kind='hist', logy=True)"
   ]
  },
  {
   "cell_type": "code",
   "execution_count": 72,
   "metadata": {
    "collapsed": true
   },
   "outputs": [
    {
     "data": {
      "text/plain": [
       "status           \n",
       "canceled    count       59.000000\n",
       "            mean        19.406780\n",
       "            std        115.371083\n",
       "            min          0.000000\n",
       "            25%          0.000000\n",
       "            50%          0.000000\n",
       "            75%          2.500000\n",
       "            max        876.000000\n",
       "failed      count    18996.000000\n",
       "            mean         0.963361\n",
       "            std          4.886985\n",
       "            min          0.000000\n",
       "            25%          0.000000\n",
       "            50%          0.000000\n",
       "            75%          1.000000\n",
       "            max        442.000000\n",
       "live        count     3929.000000\n",
       "            mean         8.939679\n",
       "            std        161.822939\n",
       "            min          0.000000\n",
       "            25%          0.000000\n",
       "            50%          0.000000\n",
       "            75%          2.000000\n",
       "            max       6895.000000\n",
       "successful  count    22969.000000\n",
       "            mean        14.386564\n",
       "            std        236.591264\n",
       "            min          0.000000\n",
       "            25%          0.000000\n",
       "            50%          2.000000\n",
       "            75%          6.000000\n",
       "            max      19311.000000\n",
       "suspended   count        4.000000\n",
       "            mean        21.000000\n",
       "            std         28.577380\n",
       "            min          0.000000\n",
       "            25%          2.250000\n",
       "            50%         11.000000\n",
       "            75%         29.750000\n",
       "            max         62.000000\n",
       "Name: comments, dtype: float64"
      ]
     },
     "execution_count": 72,
     "metadata": {},
     "output_type": "execute_result"
    }
   ],
   "source": [
    "df.groupby('status').comments.describe()"
   ]
  },
  {
   "cell_type": "code",
   "execution_count": 73,
   "metadata": {
    "collapsed": false,
    "scrolled": true
   },
   "outputs": [
    {
     "data": {
      "text/plain": [
       "<matplotlib.axes._subplots.AxesSubplot at 0x7f0f90224850>"
      ]
     },
     "execution_count": 73,
     "metadata": {},
     "output_type": "execute_result"
    },
    {
     "data": {
      "image/png": "[encoded data removed]",
      "text/plain": [
       "<matplotlib.figure.Figure at 0x7f0f90bfc810>"
      ]
     },
     "metadata": {},
     "output_type": "display_data"
    }
   ],
   "source": [
    "df.groupby('status').comments.median().plot(kind='bar', title='median comments by status')"
   ]
  },
  {
   "cell_type": "code",
   "execution_count": 74,
   "metadata": {
    "collapsed": false,
    "scrolled": true
   },
   "outputs": [
    {
     "data": {
      "text/plain": [
       "<matplotlib.axes._subplots.AxesSubplot at 0x7f0f8eaf5a10>"
      ]
     },
     "execution_count": 74,
     "metadata": {},
     "output_type": "execute_result"
    },
    {
     "data": {
      "image/png": "[encoded data removed]",
      "text/plain": [
       "<matplotlib.figure.Figure at 0x7f0f8ea0ac50>"
      ]
     },
     "metadata": {},
     "output_type": "display_data"
    }
   ],
   "source": [
    "df.groupby('status').comments.mean().plot(kind='bar', title='mean comments by status')"
   ]
  },
  {
   "cell_type": "code",
   "execution_count": 75,
   "metadata": {
    "collapsed": false,
    "scrolled": true
   },
   "outputs": [
    {
     "data": {
      "text/plain": [
       "status\n",
       "canceled      13310.486850\n",
       "failed           23.882627\n",
       "live          26186.663621\n",
       "successful    55975.426188\n",
       "suspended       816.666667\n",
       "Name: comments, dtype: float64"
      ]
     },
     "execution_count": 75,
     "metadata": {},
     "output_type": "execute_result"
    }
   ],
   "source": [
    "df.groupby('status').comments.var()"
   ]
  },
  {
   "cell_type": "code",
   "execution_count": 76,
   "metadata": {
    "collapsed": false
   },
   "outputs": [
    {
     "data": {
      "text/plain": [
       "Ttest_indResult(statistic=-8.5963982290253647, pvalue=8.7417511055173352e-18)"
      ]
     },
     "execution_count": 76,
     "metadata": {},
     "output_type": "execute_result"
    }
   ],
   "source": [
    "stats.ttest_ind(df[df.status=='failed'].comments, df[df.status=='successful'].comments, equal_var=False)"
   ]
  },
  {
   "cell_type": "markdown",
   "metadata": {},
   "source": [
    "#### Number of backers"
   ]
  },
  {
   "cell_type": "code",
   "execution_count": 46,
   "metadata": {
    "collapsed": true
   },
   "outputs": [
    {
     "data": {
      "text/plain": [
       "status           \n",
       "canceled    count       59.000000\n",
       "            mean        39.966102\n",
       "            std        131.043158\n",
       "            min          0.000000\n",
       "            25%          1.000000\n",
       "            50%          8.000000\n",
       "            75%         19.500000\n",
       "            max        918.000000\n",
       "failed      count    18996.000000\n",
       "            mean        12.569962\n",
       "            std         27.141372\n",
       "            min          0.000000\n",
       "            25%          1.000000\n",
       "            50%          4.000000\n",
       "            75%         14.000000\n",
       "            max        882.000000\n",
       "live        count     3929.000000\n",
       "            mean        59.013489\n",
       "            std        342.485178\n",
       "            min          0.000000\n",
       "            25%          2.000000\n",
       "            50%         10.000000\n",
       "            75%         33.000000\n",
       "            max      13020.000000\n",
       "successful  count    22969.000000\n",
       "            mean       119.377814\n",
       "            std        960.684332\n",
       "            min          1.000000\n",
       "            25%         29.000000\n",
       "            50%         52.000000\n",
       "            75%         96.000000\n",
       "            max      87142.000000\n",
       "suspended   count        4.000000\n",
       "            mean       192.000000\n",
       "            std        310.754995\n",
       "            min          0.000000\n",
       "            25%          9.000000\n",
       "            50%         57.500000\n",
       "            75%        240.500000\n",
       "            max        653.000000\n",
       "Name: backers, dtype: float64"
      ]
     },
     "execution_count": 46,
     "metadata": {},
     "output_type": "execute_result"
    }
   ],
   "source": [
    "df.groupby('status').backers.describe()"
   ]
  },
  {
   "cell_type": "code",
   "execution_count": 43,
   "metadata": {
    "collapsed": false,
    "scrolled": false
   },
   "outputs": [
    {
     "data": {
      "text/plain": [
       "Ttest_indResult(statistic=-16.841626926470749, pvalue=2.8936798268700084e-63)"
      ]
     },
     "execution_count": 43,
     "metadata": {},
     "output_type": "execute_result"
    }
   ],
   "source": [
    "stats.ttest_ind(df[df.status=='failed'].backers, df[df.status=='successful'].backers, equal_var=False)"
   ]
  },
  {
   "cell_type": "markdown",
   "metadata": {},
   "source": [
    "#### levels"
   ]
  },
  {
   "cell_type": "code",
   "execution_count": 48,
   "metadata": {
    "collapsed": false
   },
   "outputs": [
    {
     "data": {
      "text/plain": [
       "status           \n",
       "canceled    count       59.000000\n",
       "            mean         9.254237\n",
       "            std          4.439607\n",
       "            min          1.000000\n",
       "            25%          7.000000\n",
       "            50%          9.000000\n",
       "            75%         11.500000\n",
       "            max         27.000000\n",
       "failed      count    18996.000000\n",
       "            mean         7.290061\n",
       "            std          3.739939\n",
       "            min          0.000000\n",
       "            25%          5.000000\n",
       "            50%          7.000000\n",
       "            75%          9.000000\n",
       "            max         70.000000\n",
       "live        count     3929.000000\n",
       "            mean         8.562993\n",
       "            std          4.628804\n",
       "            min          1.000000\n",
       "            25%          6.000000\n",
       "            50%          8.000000\n",
       "            75%         10.000000\n",
       "            max         70.000000\n",
       "successful  count    22969.000000\n",
       "            mean         8.496844\n",
       "            std          4.455858\n",
       "            min          0.000000\n",
       "            25%          6.000000\n",
       "            50%          8.000000\n",
       "            75%         10.000000\n",
       "            max         80.000000\n",
       "suspended   count        4.000000\n",
       "            mean        11.750000\n",
       "            std          7.228416\n",
       "            min          5.000000\n",
       "            25%          8.750000\n",
       "            50%         10.000000\n",
       "            75%         13.000000\n",
       "            max         22.000000\n",
       "Name: levels, dtype: float64"
      ]
     },
     "execution_count": 48,
     "metadata": {},
     "output_type": "execute_result"
    }
   ],
   "source": [
    "df.groupby('status').levels.describe()"
   ]
  },
  {
   "cell_type": "code",
   "execution_count": 69,
   "metadata": {
    "collapsed": false,
    "scrolled": true
   },
   "outputs": [
    {
     "data": {
      "text/plain": [
       "True"
      ]
     },
     "execution_count": 69,
     "metadata": {},
     "output_type": "execute_result"
    }
   ],
   "source": [
    "t, p = stats.ttest_ind(df[df.status=='failed'].levels, df[df.status=='successful'].levels, equal_var=False)\n",
    "p < 0.05"
   ]
  }
 ],
 "metadata": {
  "kernelspec": {
   "display_name": "Python 2",
   "language": "python",
   "name": "python2"
  },
  "language_info": {
   "codemirror_mode": {
    "name": "ipython",
    "version": 2
   },
   "file_extension": ".py",
   "mimetype": "text/x-python",
   "name": "python",
   "nbconvert_exporter": "python",
   "pygments_lexer": "ipython2",
   "version": "2.7.13"
  }
 },
 "nbformat": 4,
 "nbformat_minor": 2
}
